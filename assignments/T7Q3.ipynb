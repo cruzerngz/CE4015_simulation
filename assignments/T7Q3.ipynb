{
 "cells": [
  {
   "cell_type": "code",
   "execution_count": null,
   "metadata": {},
   "outputs": [],
   "source": [
    "import scipy\n",
    "import matplotlib.pyplot as plt\n",
    "import numpy as np\n",
    "from scipy.stats import expon\n",
    "\n",
    "import seaborn as sb\n"
   ]
  },
  {
   "cell_type": "code",
   "execution_count": null,
   "metadata": {},
   "outputs": [],
   "source": [
    "# plot a IID exponential distribution's CDF with an average of 1.25\n",
    "def plot_exponential_cdf():\n",
    "    # create a vertical line at x=1.25\n",
    "    plt.axvline(x=1.25, color='black', linestyle='--')\n",
    "\n",
    "    x = np.linspace(0, 5, 1000)\n",
    "    y = expon.cdf(x, scale=1/1.25)\n",
    "    plt.plot(x, y, color=\"black\")\n",
    "    plt.title('Stream 1: Expon CDF, mean = 1.25')\n",
    "\n",
    "    plt.savefig('expon_cdf.svg')\n",
    "    plt.show()\n",
    "\n",
    "\n",
    "# plot a uniform distrucution CDF between 0.5 and 1.5\n",
    "def plot_uniform_cdf():\n",
    "    # create a vertical line at x=1\n",
    "    plt.axvline(x=1, color='black', linestyle='--')\n",
    "\n",
    "    x = np.linspace(0, 2, 1000)\n",
    "    y = scipy.stats.uniform.cdf(x, loc=0.5, scale=1)\n",
    "    plt.plot(x, y, color=\"black\")\n",
    "    plt.title('Stream 2: Uniform CDF, [0.5, 1.5]')\n",
    "\n",
    "    plt.savefig('uniform_cdf.svg')\n",
    "    plt.show()\n",
    "\n",
    "# def plot_exponential_cdf():\n",
    "\n",
    "\n",
    "\n",
    "    # x = np.linspace(0, 5, 1000)\n",
    "    # y = expon.cdf(x)\n",
    "    # plt.plot(x, y)\n",
    "    # plt.title('CDF of exponential distribution')\n",
    "    # plt.show()\n"
   ]
  },
  {
   "cell_type": "code",
   "execution_count": null,
   "metadata": {},
   "outputs": [],
   "source": [
    "plot_exponential_cdf()"
   ]
  },
  {
   "cell_type": "code",
   "execution_count": null,
   "metadata": {},
   "outputs": [],
   "source": [
    "plot_uniform_cdf()"
   ]
  },
  {
   "cell_type": "code",
   "execution_count": null,
   "metadata": {},
   "outputs": [],
   "source": [
    "ship_arrival_times = [0.7, 0.5, 1.5, 1, 0.9, 1] # and so on\n",
    "crane_service_times = [0.5, 1.0, 1.3, 0.3, 0.5, 0.5] # and so on\n",
    "\n",
    "crane_service_wait = []\n",
    "\n",
    "for arr_time, service_time in zip(ship_arrival_times, crane_service_times):\n",
    "    if arr_time > service_time:\n",
    "        crane_service_wait.append(arr_time)\n",
    "    else:\n",
    "        crane_service_wait.append(service_time)\n",
    "\n",
    "crane_service_wait\n",
    "\n",
    "utilization = sum(crane_service_times) / sum(crane_service_wait)\n",
    "\n",
    "# calculate util rates from 0 - len(arr_times)\n",
    "def util_rate(arr_times: list, serv_time: list) -> list:\n",
    "    util_rates = []\n",
    "\n",
    "    for max in range(1, len(arr_times)):\n",
    "        arr_t = arr_times[:max]\n",
    "        ser_t =serv_time[:max]\n",
    "        crane_service_wait = []\n",
    "        for arr_time, service_time in zip(arr_t, ser_t):\n",
    "            if arr_time > service_time:\n",
    "                crane_service_wait.append(arr_time)\n",
    "            else:\n",
    "                crane_service_wait.append(service_time)\n",
    "        util_rates.append(sum(ser_t) / sum(crane_service_wait))\n",
    "    util_rates.insert(0, 0)\n",
    "\n",
    "    return util_rates"
   ]
  },
  {
   "cell_type": "code",
   "execution_count": null,
   "metadata": {},
   "outputs": [],
   "source": [
    "util_rate(ship_arrival_times, crane_service_times)"
   ]
  },
  {
   "cell_type": "code",
   "execution_count": null,
   "metadata": {},
   "outputs": [],
   "source": [
    "# plot arrival times and service times as dots,\n",
    "# and the utilization rate as a line\n",
    "def plot_util_rate(arr_times: list, serv_time: list):\n",
    "    util_rates = util_rate(arr_times, serv_time)\n",
    "    plt.plot(util_rates, color='black')\n",
    "    plt.axhline(y=1, color='gray', linestyle='--')\n",
    "    plt.scatter(range(len(arr_times)), arr_times, color='black', marker='x', s=7)\n",
    "    plt.scatter(range(len(serv_time)), serv_time, color='black', marker='.', s=7)\n",
    "    plt.title('Crane Utilization')\n",
    "    plt.savefig('util_rate.svg')\n",
    "    # plt.legend()\n",
    "    plt.show()\n",
    "\n"
   ]
  },
  {
   "cell_type": "code",
   "execution_count": null,
   "metadata": {},
   "outputs": [],
   "source": [
    "plot_util_rate(ship_arrival_times, crane_service_times)"
   ]
  },
  {
   "cell_type": "code",
   "execution_count": null,
   "metadata": {},
   "outputs": [],
   "source": [
    "# generate 100 samples of exponential distribution with mean 1.25\n",
    "def generate_expon_samples():\n",
    "    samples = expon.rvs(scale=1/1.25, size=100)\n",
    "    return samples\n",
    "\n",
    "# generate 100 samples of uniform distribution between 0.5 and 1.5\n",
    "def generate_uniform_samples():\n",
    "    samples = scipy.stats.uniform.rvs(loc=0.5, scale=1, size=100)\n",
    "    return samples\n",
    "\n",
    "arr_times = generate_expon_samples()\n",
    "serv_times = generate_uniform_samples()\n",
    "\n",
    "plot_util_rate(arr_times, serv_times)"
   ]
  },
  {
   "cell_type": "code",
   "execution_count": null,
   "metadata": {},
   "outputs": [],
   "source": [
    "num_samples = 1000\n",
    "\n",
    "\n",
    "# create a vector of randomly distributed numbers from 0 to 1\n",
    "random_numbers = np.random.rand(num_samples)\n",
    "\n",
    "# transform this vector to an exponential distribution of mean 1.25\n",
    "exponential_numbers = expon.ppf(random_numbers, scale=1/1.25)\n",
    "\n",
    "\n",
    "comp_random_numbers = np.array([1 for _ in range(num_samples)]) - random_numbers\n",
    "comp_expon = expon.ppf(comp_random_numbers, scale=1/1.25)\n",
    "\n",
    "sb.histplot(exponential_numbers, kde=True, color=\"black\", alpha=0.5)\n",
    "plt.show()\n",
    "sb.histplot(comp_expon, kde=True, color=\"red\")\n"
   ]
  }
 ],
 "metadata": {
  "kernelspec": {
   "display_name": "Python 3",
   "language": "python",
   "name": "python3"
  },
  "language_info": {
   "codemirror_mode": {
    "name": "ipython",
    "version": 3
   },
   "file_extension": ".py",
   "mimetype": "text/x-python",
   "name": "python",
   "nbconvert_exporter": "python",
   "pygments_lexer": "ipython3",
   "version": "3.10.12"
  }
 },
 "nbformat": 4,
 "nbformat_minor": 2
}
