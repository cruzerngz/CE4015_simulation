{
 "cells": [
  {
   "cell_type": "code",
   "execution_count": null,
   "metadata": {},
   "outputs": [],
   "source": [
    "import pandas as pd\n",
    "import numpy as np\n",
    "import seaborn as sb\n",
    "\n",
    "from matplotlib import pyplot as plt\n",
    "\n",
    "import distfit\n",
    "import scipy\n",
    "\n",
    "sb.set_theme(palette=\"rocket\")"
   ]
  },
  {
   "cell_type": "code",
   "execution_count": null,
   "metadata": {},
   "outputs": [],
   "source": [
    "raw_df = pd.read_csv(\"PCS_TEST_DETERMINSTIC.csv\")\n",
    "raw_df.info()"
   ]
  },
  {
   "cell_type": "markdown",
   "metadata": {},
   "source": [
    "## Simple inference\n",
    "In this section, we will determine the distributions of each column individually.\n"
   ]
  },
  {
   "cell_type": "code",
   "execution_count": null,
   "metadata": {},
   "outputs": [],
   "source": [
    "def plot_distfit_result(\n",
    "    fitter: distfit.distfit,\n",
    "    num_top: int = 3,\n",
    "    line_colour: str = \"#BBBBBB\",\n",
    "    pdf_linewidth: int = 2,\n",
    "    pdf_bar_multiplier: float = 0.5,\n",
    "\n",
    "):\n",
    "    '''\n",
    "    pdf_color accepts hex strings only. (0xFFFFFF)\n",
    "    '''\n",
    "\n",
    "    bar_props = {\n",
    "        \"color\": line_colour\n",
    "    }\n",
    "\n",
    "    pdf_props = {\n",
    "        \"color\": manip_rgb(line_colour, pdf_bar_multiplier),\n",
    "        \"linewidth\": pdf_linewidth,\n",
    "    }\n",
    "\n",
    "    fig, ax = fitter.plot(\n",
    "        chart=\"pdf\",\n",
    "        n_top=num_top,\n",
    "        pdf_properties=pdf_props,\n",
    "        bar_properties=bar_props,\n",
    "    )\n",
    "\n",
    "    return\n",
    "\n",
    "\n",
    "def manip_rgb(input: str, amount: float) -> str:\n",
    "    '''Input is a hash-prefixed RGB string: \"#FFFFFF\"'''\n",
    "\n",
    "    input_filt = input[1:].ljust(6, \"0\")\n",
    "\n",
    "    r = int(float(int(input_filt[0:2], 16)) * amount) % 255\n",
    "    g = int(float(int(input_filt[2:4], 16)) * amount) % 255\n",
    "    b = int(float(int(input_filt[4:6], 16)) * amount) % 255\n",
    "\n",
    "    r_str = hex(r)[2:].ljust(2, \"0\")\n",
    "    g_str = hex(g)[2:].ljust(2, \"0\")\n",
    "    b_str = hex(b)[2:].ljust(2, \"0\")\n",
    "\n",
    "    res = f\"#{r_str}{g_str}{b_str}\"\n",
    "\n",
    "    return res"
   ]
  },
  {
   "cell_type": "code",
   "execution_count": null,
   "metadata": {},
   "outputs": [],
   "source": [
    "# inter-arrival times\n",
    "deltas = np.diff(raw_df[\"Arrival time (sec)\"])\n",
    "\n",
    "fitter = distfit.distfit(distr=\"expon\")\n",
    "fit_results = fitter.fit_transform(deltas, verbose=False)\n",
    "plot_distfit_result(fitter)\n",
    "fit_results[\"model\"]\n"
   ]
  },
  {
   "cell_type": "code",
   "execution_count": null,
   "metadata": {},
   "outputs": [],
   "source": [
    "# base stations used (should be uniform)\n",
    "fig, ax = plt.figure(), plt.gca()\n",
    "sb.histplot(raw_df[\"Base station \"], discrete=True, kde=False, ax=ax)\n",
    "ax.set_xticks([i for i in range(1, 21)])\n",
    "plt.show()\n",
    "\n",
    "# show the same plot but with an integer x-axis\n",
    "# plt.xticks(np.arange(1, 21, 1))\n",
    "# plt.show()\n",
    "\n",
    "base_station_nums = set(raw_df[\"Base station \"])\n",
    "base_station_nums\n",
    "\n",
    "station_dist = raw_df[\"Base station \"].value_counts().sort_index().to_list()\n",
    "# sb.barplot(station_dist)\n"
   ]
  },
  {
   "cell_type": "code",
   "execution_count": null,
   "metadata": {},
   "outputs": [],
   "source": [
    "# base station distribution\n",
    "\n",
    "starting_stations = raw_df[\"Base station \"]\n",
    "\n",
    "fitter = distfit.distfit(distr=\"uniform\")\n",
    "fit_results = fitter.fit_transform(starting_stations, verbose=False)\n",
    "\n",
    "plot_distfit_result(fitter)\n",
    "\n",
    "# fig, ax = fitter.plot(chart=\"pdf\", n_top=5)\n",
    "\n",
    "fit_results[\"model\"]\n"
   ]
  },
  {
   "cell_type": "code",
   "execution_count": null,
   "metadata": {},
   "outputs": [],
   "source": [
    "# call duration dist\n",
    "\n",
    "call_dur = raw_df[\"Call duration (sec)\"]\n",
    "\n",
    "fitter = distfit.distfit(distr=\"popular\")\n",
    "fit_results = fitter.fit_transform(call_dur, verbose=False)\n",
    "plot_distfit_result(fitter)\n",
    "fit_results[\"model\"]\n",
    "\n"
   ]
  },
  {
   "cell_type": "code",
   "execution_count": null,
   "metadata": {},
   "outputs": [],
   "source": [
    "# checking minimum call duration\n",
    "call_durations = raw_df[\"Call duration (sec)\"].tolist()\n",
    "min(call_durations)"
   ]
  },
  {
   "cell_type": "code",
   "execution_count": null,
   "metadata": {},
   "outputs": [],
   "source": [
    "veh_velocities = raw_df[\"velocity (km/h)\"]\n",
    "\n",
    "fitter = distfit.distfit(distr=\"norm\")\n",
    "fit_results = fitter.fit_transform(veh_velocities, verbose=False)\n",
    "\n",
    "plot_distfit_result(fitter)\n",
    "\n",
    "fit_results[\"model\"]\n",
    "\n"
   ]
  },
  {
   "cell_type": "markdown",
   "metadata": {},
   "source": [
    "# Comparing measurements to simulated call initiation events\n"
   ]
  },
  {
   "cell_type": "code",
   "execution_count": null,
   "metadata": {},
   "outputs": [],
   "source": [
    "sim_df = pd.read_csv(\"call_init_gen.csv\")\n",
    "sim_df.info()"
   ]
  },
  {
   "cell_type": "code",
   "execution_count": null,
   "metadata": {},
   "outputs": [],
   "source": [
    "# call arrival intervals\n",
    "\n",
    "call_init_times = sim_df[\"time\"].tolist()\n",
    "call_intervals = np.diff(call_init_times)\n",
    "\n",
    "fitter = distfit.distfit(distr=\"expon\")\n",
    "fit_results = fitter.fit_transform(call_intervals, verbose=False)\n",
    "plot_distfit_result(fitter)\n",
    "fit_results[\"model\"]"
   ]
  },
  {
   "cell_type": "code",
   "execution_count": null,
   "metadata": {},
   "outputs": [],
   "source": [
    "# base station\n",
    "base_stations = sim_df[\"station\"]\n",
    "base_stations[:100]\n",
    "fitter = distfit.distfit(distr=\"uniform\")\n",
    "fit_results = fitter.fit_transform(base_stations, verbose=False)\n",
    "plot_distfit_result(fitter)\n",
    "fit_results[\"model\"]\n"
   ]
  },
  {
   "cell_type": "code",
   "execution_count": null,
   "metadata": {},
   "outputs": [],
   "source": [
    "# call durations\n",
    "call_durations = sim_df[\"remaining_time\"]\n",
    "\n",
    "fitter = distfit.distfit(distr=\"expon\")\n",
    "fit_results = fitter.fit_transform(call_durations, verbose=False)\n",
    "plot_distfit_result(fitter)\n",
    "fit_results[\"model\"]\n",
    "\n",
    "\n",
    "# print(f\"min call duration: {min(call_durations)}\")\n",
    "# sb.histplot(call_durations)"
   ]
  },
  {
   "cell_type": "code",
   "execution_count": null,
   "metadata": {},
   "outputs": [],
   "source": [
    "# vehicle velocity\n",
    "veh_speeds = sim_df[\"velocity\"]\n",
    "fitter = distfit.distfit(distr=\"norm\")\n",
    "fit_results = fitter.fit_transform(veh_speeds, verbose=False)\n",
    "plot_distfit_result(fitter)\n",
    "fit_results[\"model\"]\n",
    "\n",
    "\n",
    "# veh_speeds = sim_df[\"velocity\"]\n",
    "# sb.histplot(veh_speeds)"
   ]
  },
  {
   "cell_type": "code",
   "execution_count": null,
   "metadata": {},
   "outputs": [],
   "source": [
    "veh_pos = sim_df[\"position\"]\n",
    "sb.histplot(veh_pos, bins=10)\n",
    "plt.show()\n",
    "\n",
    "veh_dir = sim_df[\"direction\"].value_counts()\n",
    "sb.barplot(veh_dir)\n",
    "plt.show()\n",
    "\n",
    "cell_tower = sim_df[\"station\"].value_counts()\n",
    "sb.barplot(cell_tower)\n",
    "plt.show()"
   ]
  }
 ],
 "metadata": {
  "kernelspec": {
   "display_name": "Python 3",
   "language": "python",
   "name": "python3"
  },
  "language_info": {
   "codemirror_mode": {
    "name": "ipython",
    "version": 3
   },
   "file_extension": ".py",
   "mimetype": "text/x-python",
   "name": "python",
   "nbconvert_exporter": "python",
   "pygments_lexer": "ipython3",
   "version": "3.10.12"
  }
 },
 "nbformat": 4,
 "nbformat_minor": 2
}
