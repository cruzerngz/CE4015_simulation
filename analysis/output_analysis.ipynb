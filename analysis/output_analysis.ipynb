{
 "cells": [
  {
   "cell_type": "code",
   "execution_count": null,
   "metadata": {},
   "outputs": [],
   "source": [
    "import pandas as pd\n",
    "import numpy as np\n",
    "import seaborn as sb\n",
    "\n",
    "from matplotlib import pyplot as plt\n",
    "\n",
    "import distfit\n",
    "import scipy\n",
    "\n",
    "sb.set_theme(palette=\"rocket\")"
   ]
  },
  {
   "cell_type": "code",
   "execution_count": null,
   "metadata": {},
   "outputs": [],
   "source": [
    "# distfit stuff\n",
    "\n",
    "def plot_distfit_result(\n",
    "    fitter: distfit.distfit,\n",
    "    title: str = \"\",\n",
    "    num_top: int = 3,\n",
    "    line_colour: str = \"#BBBBBB\",\n",
    "    pdf_linewidth: int = 2,\n",
    "    pdf_bar_multiplier: float = 0.5,\n",
    "\n",
    ") -> plt.Figure:\n",
    "    '''\n",
    "    pdf_color accepts hex strings only. (0xFFFFFF)\n",
    "    '''\n",
    "\n",
    "    bar_props = {\n",
    "        \"color\": line_colour\n",
    "    }\n",
    "\n",
    "    pdf_props = {\n",
    "        \"color\": manip_rgb(line_colour, pdf_bar_multiplier),\n",
    "        \"linewidth\": pdf_linewidth,\n",
    "    }\n",
    "\n",
    "    fig, ax = fitter.plot(\n",
    "        chart=\"pdf\",\n",
    "        title=title,\n",
    "        n_top=num_top,\n",
    "        pdf_properties=pdf_props,\n",
    "        bar_properties=bar_props,\n",
    "        figsize=(12, 8),\n",
    "    )\n",
    "\n",
    "    return fig\n",
    "\n",
    "\n",
    "def manip_rgb(input: str, amount: float) -> str:\n",
    "    '''Input is a hash-prefixed RGB string: \"#FFFFFF\"'''\n",
    "\n",
    "    input_filt = input[1:].ljust(6, \"0\")\n",
    "\n",
    "    r = int(float(int(input_filt[0:2], 16)) * amount) % 255\n",
    "    g = int(float(int(input_filt[2:4], 16)) * amount) % 255\n",
    "    b = int(float(int(input_filt[4:6], 16)) * amount) % 255\n",
    "\n",
    "    r_str = hex(r)[2:].ljust(2, \"0\")\n",
    "    g_str = hex(g)[2:].ljust(2, \"0\")\n",
    "    b_str = hex(b)[2:].ljust(2, \"0\")\n",
    "\n",
    "    res = f\"#{r_str}{g_str}{b_str}\"\n",
    "\n",
    "    return res"
   ]
  },
  {
   "cell_type": "markdown",
   "metadata": {},
   "source": [
    "# Determining warmup time\n",
    "As a general rule of thumb, we want to start measuring when all base stations are working at maximum capacity."
   ]
  },
  {
   "cell_type": "code",
   "execution_count": null,
   "metadata": {},
   "outputs": [],
   "source": [
    "# single run of 0 channel reserve\n",
    "ev_r0 = pd.read_csv(\"simulator_events_a_r0_r1_e10000.csv\")\n",
    "# single run of 1 channel reserve\n",
    "ev_r1 = pd.read_csv(\"simulator_events_a_r1_r1_e10000.csv\")\n",
    "\n",
    "ev_r0[\"station\"].value_counts().sort_index()\n",
    "ev_r0.info()"
   ]
  },
  {
   "cell_type": "code",
   "execution_count": null,
   "metadata": {},
   "outputs": [],
   "source": [
    "expl = ev_r0[ev_r0[\"station\"] <= 2].explode(column=\"station\")\n",
    "\n",
    "# sb.lineplot(data=expl, x=\"time\", y=\"station_free_channels\", hue=\"station\", err_style=\"band\", linewidth=0.2)\n",
    "\n",
    "hist_data = ev_r0[[\"station\", \"station_free_channels\"]]\n",
    "hist_data = hist_data.astype({\"station\": \"category\"})\n",
    "new_hist = hist_data.explode(\"station\")\n",
    "\n",
    "new_hist.info()\n",
    "fig = plt.figure(figsize=(16, 8))\n",
    "\n",
    "sb.histplot(data=new_hist, x=\"station_free_channels\", hue=\"station\", multiple=\"dodge\", bins=10, palette=\"icefire\", legend=True)\n",
    "# plt.legend(loc=\"best\")\n",
    "\n",
    "# fig.legend()\n",
    "# move the legend to the right\n",
    "plt.show()\n",
    "# hist_data.info()"
   ]
  },
  {
   "cell_type": "code",
   "execution_count": null,
   "metadata": {},
   "outputs": [],
   "source": [
    "ev_r0.info()\n",
    "# partition the dataframe by station\n",
    "ev_r0_stations = [ev_r0[ev_r0[\"station\"] == i] for i in range(1, 20)]\n",
    "ev_r1_stations = [ev_r1[ev_r1[\"station\"] == i] for i in range(1, 20)]\n",
    "\n",
    "# ev_r0_piv = ev_r0.pivot(index=\"time\", columns=\"station\", values=\"station_free_channels\")\n",
    "ev_r0_piv = ev_r0.pivot(columns=\"station\", index=\"time\", values=\"station_free_channels\")# index=\"time\", values=\"station_free_channels\")\n",
    "\n",
    "# ev_r0_piv = ev_r0.melt()\n",
    "\n",
    "# fill nans with the most recent value\n",
    "ev_r0_piv.fillna(method=\"ffill\", inplace=True)\n",
    "ev_r0_piv.fillna(value=10, inplace=True)\n",
    "\n",
    "\n",
    "# sb.scatterplot(ev_r0_stations[0], x=\"time\", y=\"station_free_channels\")\n",
    "\n",
    "# create a rolling average of the number of free channels\n",
    "# for i in range(4):\n",
    "    # ev_r0_stations[i][\"station_free_channels\"] = ev_r0_stations[i][\"station_free_channels\"].rolling(100).mean()\n",
    "    # ev_r1_stations[i][\"station_free_channels\"] = ev_r1_stations[i][\"station_free_channels\"].rolling(100).mean()\n",
    "\n",
    "fig, ax = plt.figure(figsize=(16,8)), plt.axes()\n",
    "\n",
    "for station in ev_r0_stations[10:11]:\n",
    "    ax.axhline(y=station[\"station_free_channels\"].mean(), color='r', linestyle='--', alpha=0.9)\n",
    "\n",
    "    rolling_small = station[\"station_free_channels\"].rolling(10).mean()\n",
    "    rolling_large = station[\"station_free_channels\"].expanding().mean()\n",
    "\n",
    "    sb.scatterplot(data=station, x=\"time\", y=rolling_small, ax=ax, alpha=0.4, marker=\".\")\n",
    "    sb.lineplot(data=station, x=\"time\", y=rolling_large, ax=ax, alpha=0.5)\n",
    "\n",
    "plt.title(\"single channnel availability over time, 0 channel reserve\", fontsize=15)\n",
    "plt.savefig(\"channel_availability_r0.svg\")\n",
    "plt.show()\n",
    "#\n",
    "# generate a smoothed line plot of the number of free channels over time\n",
    "# fig, ax = plt.subplots(2, 2, figsize=(12, 8))\n",
    "# for i in range(4):\n",
    "\n",
    "#     rolling_small = ev_r0_stations[i][\"station_free_channels\"].rolling(10).mean()\n",
    "#     rolling_large = ev_r0_stations[i][\"station_free_channels\"].rolling(100).mean()\n",
    "\n",
    "#     #plot the mean as a horizontal line\n",
    "#     ax[i // 2, i % 2].axhline(y=ev_r0_stations[i][\"station_free_channels\"].mean(), color='b', linestyle='--')\n",
    "\n",
    "#     sb.lineplot(data=ev_r0_stations[i], x=\"time\", y=rolling_small, ax=ax[i // 2, i % 2], alpha=0.5)\n",
    "#     sb.lineplot(data=ev_r0_stations[i], x=\"time\", y=rolling_large, ax=ax[i // 2, i % 2], alpha=0.8)\n",
    "#     ax[i // 2, i % 2].set_title(f\"Station {i + 1} - 0 Channel Reserve\")\n",
    "#     ax[i // 2, i % 2].set_xlabel(\"Time (s)\")\n",
    "#     ax[i // 2, i % 2].set_ylabel(\"Free Channels\")\n",
    "\n",
    "# plt.tight_layout()\n",
    "# plt.savefig(\"station_free_channels_r0.png\")\n",
    "# plt.show()\n"
   ]
  },
  {
   "cell_type": "code",
   "execution_count": null,
   "metadata": {},
   "outputs": [],
   "source": [
    "perf_anti_r0 = pd.read_csv(\"simulator_perf_a_r0_r100000_e10000.csv\")\n",
    "perf_anti_r0.info()\n",
    "\n",
    "perf_anti_r1 = pd.read_csv(\"simulator_perf_a_r1_r100000_e10000.csv\")"
   ]
  },
  {
   "cell_type": "code",
   "execution_count": null,
   "metadata": {},
   "outputs": [],
   "source": [
    "# sb.histplot(perf_df, x=\"blocked_calls\")\n",
    "# sb.histplot(perf_df, x=\"dropped_calls\")\n",
    "\n",
    "num_bins = 50\n",
    "\n",
    "plt.figure(figsize=(12, 9))\n",
    "sb.histplot(perf_anti_r0, bins=num_bins, kde=True, palette=\"icefire\") # bins=1000)\n",
    "plt.title(\"0 channel reservation\", fontsize=20)\n",
    "plt.savefig(\"reserve-0.svg\")\n",
    "plt.show()\n",
    "\n",
    "plt.figure(figsize=(12, 9))\n",
    "sb.histplot(perf_anti_r1, bins=num_bins, kde=True, palette=\"icefire\") # bins=1000)\n",
    "plt.title(\"1 channel reservation\", fontsize=20)\n",
    "plt.savefig(\"reserve-1.svg\")\n",
    "plt.show()"
   ]
  },
  {
   "cell_type": "code",
   "execution_count": null,
   "metadata": {},
   "outputs": [],
   "source": [
    "no_res_blocked = perf_anti_r0[\"blocked_calls\"]\n",
    "\n",
    "fitter = distfit.distfit(distr=\"norm\", smooth=6)\n",
    "fit_results = fitter.fit_transform(no_res_blocked, verbose=False)\n",
    "f = plot_distfit_result(fitter, \"blocked calls percentage - 0 channel reserve\")\n",
    "f.savefig(\"reserve-0_blocked.svg\")\n",
    "fit_results[\"model\"]"
   ]
  },
  {
   "cell_type": "code",
   "execution_count": null,
   "metadata": {},
   "outputs": [],
   "source": [
    "no_res_blocked = perf_anti_r0[\"dropped_calls\"]\n",
    "\n",
    "fitter = distfit.distfit(distr=\"norm\", smooth=6)\n",
    "fit_results = fitter.fit_transform(no_res_blocked, verbose=False)\n",
    "f = plot_distfit_result(fitter, \"dropped calls percentage - 0 channel reserve\")\n",
    "f.savefig(\"reserve-0_dropped.svg\")\n",
    "fit_results[\"model\"]"
   ]
  },
  {
   "cell_type": "code",
   "execution_count": null,
   "metadata": {},
   "outputs": [],
   "source": [
    "res_blocked = perf_anti_r1[\"blocked_calls\"]\n",
    "\n",
    "fitter = distfit.distfit(distr=\"norm\", smooth=6)\n",
    "fit_results = fitter.fit_transform(res_blocked, verbose=False)\n",
    "f = plot_distfit_result(fitter, \"blocked calls percentage - 1 channel reserve\")\n",
    "f.savefig(\"reserve-1_blocked.svg\")\n",
    "fit_results[\"model\"]"
   ]
  },
  {
   "cell_type": "code",
   "execution_count": null,
   "metadata": {},
   "outputs": [],
   "source": [
    "res_blocked = perf_anti_r1[\"dropped_calls\"]\n",
    "\n",
    "fitter = distfit.distfit(distr=\"norm\", smooth=4)\n",
    "fit_results = fitter.fit_transform(res_blocked, verbose=False)\n",
    "f = plot_distfit_result(fitter, \"dropped calls percentage - 1 channel reserve\")\n",
    "f.savefig(\"reserve-1_dropped.svg\")\n",
    "fit_results[\"model\"]"
   ]
  },
  {
   "cell_type": "markdown",
   "metadata": {},
   "source": [
    "# Paired t-test"
   ]
  },
  {
   "cell_type": "code",
   "execution_count": null,
   "metadata": {},
   "outputs": [],
   "source": [
    "import scipy.stats as stats\n",
    "\n",
    "\n",
    "x = perf_anti_r0[\"blocked_calls\"]\n",
    "y = perf_anti_r1[\"blocked_calls\"]\n",
    "\n",
    "print(stats.ttest_rel(x, y))\n",
    "\n",
    "a = perf_anti_r0[\"dropped_calls\"]\n",
    "b = perf_anti_r1[\"dropped_calls\"]\n",
    "\n",
    "\n",
    "print(stats.ttest_rel(a, b))"
   ]
  }
 ],
 "metadata": {
  "kernelspec": {
   "display_name": "Python 3",
   "language": "python",
   "name": "python3"
  },
  "language_info": {
   "codemirror_mode": {
    "name": "ipython",
    "version": 3
   },
   "file_extension": ".py",
   "mimetype": "text/x-python",
   "name": "python",
   "nbconvert_exporter": "python",
   "pygments_lexer": "ipython3",
   "version": "3.10.12"
  }
 },
 "nbformat": 4,
 "nbformat_minor": 2
}
